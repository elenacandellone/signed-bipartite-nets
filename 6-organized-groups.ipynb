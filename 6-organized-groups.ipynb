{
 "cells": [
  {
   "cell_type": "code",
   "execution_count": 1,
   "metadata": {},
   "outputs": [],
   "source": [
    "from src.utils import *"
   ]
  },
  {
   "cell_type": "code",
   "execution_count": 11,
   "metadata": {},
   "outputs": [],
   "source": [
    "votes = pd.read_csv('./data/meneame/real-data/df_stories_votes.tsv.gz', sep='\\t', compression='gzip')\n",
    "membership = pd.read_csv('./results/meneame/real-data/membership_df.csv')"
   ]
  },
  {
   "cell_type": "code",
   "execution_count": 19,
   "metadata": {},
   "outputs": [
    {
     "name": "stdout",
     "output_type": "stream",
     "text": [
      "number of users in this small community: 8\n"
     ]
    },
    {
     "data": {
      "text/html": [
       "<div>\n",
       "<style scoped>\n",
       "    .dataframe tbody tr th:only-of-type {\n",
       "        vertical-align: middle;\n",
       "    }\n",
       "\n",
       "    .dataframe tbody tr th {\n",
       "        vertical-align: top;\n",
       "    }\n",
       "\n",
       "    .dataframe thead th {\n",
       "        text-align: right;\n",
       "    }\n",
       "</style>\n",
       "<table border=\"1\" class=\"dataframe\">\n",
       "  <thead>\n",
       "    <tr style=\"text-align: right;\">\n",
       "      <th></th>\n",
       "      <th>story_id</th>\n",
       "      <th>username_vote</th>\n",
       "      <th>story_vote</th>\n",
       "    </tr>\n",
       "  </thead>\n",
       "  <tbody>\n",
       "    <tr>\n",
       "      <th>1242425</th>\n",
       "      <td>3810783</td>\n",
       "      <td>7ee6e604ef1b52b55f4468bb931f1f8b94c841aa</td>\n",
       "      <td>1</td>\n",
       "    </tr>\n",
       "    <tr>\n",
       "      <th>1242427</th>\n",
       "      <td>3810783</td>\n",
       "      <td>aa4c00e8aadd1ebd4614f62e4991f64a2f9e94f1</td>\n",
       "      <td>1</td>\n",
       "    </tr>\n",
       "    <tr>\n",
       "      <th>1242428</th>\n",
       "      <td>3810783</td>\n",
       "      <td>0444b8330a2ca568d3813aa5f66407059d8ac2a3</td>\n",
       "      <td>1</td>\n",
       "    </tr>\n",
       "    <tr>\n",
       "      <th>1242434</th>\n",
       "      <td>3810783</td>\n",
       "      <td>f87b5f74d830adece532fb7d12aec9eddfc8a89c</td>\n",
       "      <td>1</td>\n",
       "    </tr>\n",
       "    <tr>\n",
       "      <th>1242436</th>\n",
       "      <td>3810783</td>\n",
       "      <td>104a9426a4e83502d492d6ff09ec29876b6b6582</td>\n",
       "      <td>1</td>\n",
       "    </tr>\n",
       "    <tr>\n",
       "      <th>1242437</th>\n",
       "      <td>3810783</td>\n",
       "      <td>3b3cc32ff14e530df051f3d53facd8bd8c42c513</td>\n",
       "      <td>1</td>\n",
       "    </tr>\n",
       "    <tr>\n",
       "      <th>1242438</th>\n",
       "      <td>3810783</td>\n",
       "      <td>4550b6f5dca8e2e3653e9f77598e7d6ccaff75b5</td>\n",
       "      <td>1</td>\n",
       "    </tr>\n",
       "    <tr>\n",
       "      <th>1242439</th>\n",
       "      <td>3810783</td>\n",
       "      <td>56438053000bd2e09274d83f6f53d892d43c05e3</td>\n",
       "      <td>1</td>\n",
       "    </tr>\n",
       "  </tbody>\n",
       "</table>\n",
       "</div>"
      ],
      "text/plain": [
       "         story_id                             username_vote  story_vote\n",
       "1242425   3810783  7ee6e604ef1b52b55f4468bb931f1f8b94c841aa           1\n",
       "1242427   3810783  aa4c00e8aadd1ebd4614f62e4991f64a2f9e94f1           1\n",
       "1242428   3810783  0444b8330a2ca568d3813aa5f66407059d8ac2a3           1\n",
       "1242434   3810783  f87b5f74d830adece532fb7d12aec9eddfc8a89c           1\n",
       "1242436   3810783  104a9426a4e83502d492d6ff09ec29876b6b6582           1\n",
       "1242437   3810783  3b3cc32ff14e530df051f3d53facd8bd8c42c513           1\n",
       "1242438   3810783  4550b6f5dca8e2e3653e9f77598e7d6ccaff75b5           1\n",
       "1242439   3810783  56438053000bd2e09274d83f6f53d892d43c05e3           1"
      ]
     },
     "execution_count": 19,
     "metadata": {},
     "output_type": "execute_result"
    }
   ],
   "source": [
    "# take rows when the user is in the community 2\n",
    "users_1 = membership[membership['spinglass (0.5,0.5)'] == 2]['username_vote'].unique().tolist()\n",
    "print(f'number of users in this small community: {len(users_1)}')\n",
    "votes_1 = votes[votes['username_vote'].isin(users_1)]\n",
    "votes_1[['story_id', 'username_vote', 'story_vote']]"
   ]
  },
  {
   "cell_type": "code",
   "execution_count": 29,
   "metadata": {},
   "outputs": [
    {
     "name": "stdout",
     "output_type": "stream",
     "text": [
      "number of users in this small community: 5\n"
     ]
    },
    {
     "data": {
      "text/html": [
       "<div>\n",
       "<style scoped>\n",
       "    .dataframe tbody tr th:only-of-type {\n",
       "        vertical-align: middle;\n",
       "    }\n",
       "\n",
       "    .dataframe tbody tr th {\n",
       "        vertical-align: top;\n",
       "    }\n",
       "\n",
       "    .dataframe thead th {\n",
       "        text-align: right;\n",
       "    }\n",
       "</style>\n",
       "<table border=\"1\" class=\"dataframe\">\n",
       "  <thead>\n",
       "    <tr style=\"text-align: right;\">\n",
       "      <th></th>\n",
       "      <th>story_id</th>\n",
       "      <th>username_vote</th>\n",
       "      <th>story_vote</th>\n",
       "    </tr>\n",
       "  </thead>\n",
       "  <tbody>\n",
       "    <tr>\n",
       "      <th>1295939</th>\n",
       "      <td>3809424</td>\n",
       "      <td>96ca9adbdb445340be877e018ae99e9aa18417f4</td>\n",
       "      <td>1</td>\n",
       "    </tr>\n",
       "    <tr>\n",
       "      <th>1295940</th>\n",
       "      <td>3809424</td>\n",
       "      <td>9dbd1502546b39b3de6f69b4139ac0cfd06f0bc5</td>\n",
       "      <td>1</td>\n",
       "    </tr>\n",
       "    <tr>\n",
       "      <th>1295942</th>\n",
       "      <td>3809424</td>\n",
       "      <td>94be57b2f53bb60079aafaff2f9850a2fae660e9</td>\n",
       "      <td>1</td>\n",
       "    </tr>\n",
       "    <tr>\n",
       "      <th>1295949</th>\n",
       "      <td>3809424</td>\n",
       "      <td>8a7e265fe5ac4d3056eb167ec183cf7e58479761</td>\n",
       "      <td>1</td>\n",
       "    </tr>\n",
       "    <tr>\n",
       "      <th>1428883</th>\n",
       "      <td>3820445</td>\n",
       "      <td>0aef6ffc52ab209a4905e80ef7aea28005a843a6</td>\n",
       "      <td>1</td>\n",
       "    </tr>\n",
       "  </tbody>\n",
       "</table>\n",
       "</div>"
      ],
      "text/plain": [
       "         story_id                             username_vote  story_vote\n",
       "1295939   3809424  96ca9adbdb445340be877e018ae99e9aa18417f4           1\n",
       "1295940   3809424  9dbd1502546b39b3de6f69b4139ac0cfd06f0bc5           1\n",
       "1295942   3809424  94be57b2f53bb60079aafaff2f9850a2fae660e9           1\n",
       "1295949   3809424  8a7e265fe5ac4d3056eb167ec183cf7e58479761           1\n",
       "1428883   3820445  0aef6ffc52ab209a4905e80ef7aea28005a843a6           1"
      ]
     },
     "execution_count": 29,
     "metadata": {},
     "output_type": "execute_result"
    }
   ],
   "source": [
    "# take rows when the user is in the community 2\n",
    "users_1 = membership[membership['spinglass (0.5,0.5)'] == 4]['username_vote'].unique().tolist()\n",
    "print(f'number of users in this small community: {len(users_1)}')\n",
    "votes_1 = votes[votes['username_vote'].isin(users_1)]\n",
    "votes_1[['story_id', 'username_vote', 'story_vote']]"
   ]
  },
  {
   "cell_type": "code",
   "execution_count": 30,
   "metadata": {},
   "outputs": [
    {
     "name": "stdout",
     "output_type": "stream",
     "text": [
      "number of users in this small community: 8\n"
     ]
    },
    {
     "data": {
      "text/html": [
       "<div>\n",
       "<style scoped>\n",
       "    .dataframe tbody tr th:only-of-type {\n",
       "        vertical-align: middle;\n",
       "    }\n",
       "\n",
       "    .dataframe tbody tr th {\n",
       "        vertical-align: top;\n",
       "    }\n",
       "\n",
       "    .dataframe thead th {\n",
       "        text-align: right;\n",
       "    }\n",
       "</style>\n",
       "<table border=\"1\" class=\"dataframe\">\n",
       "  <thead>\n",
       "    <tr style=\"text-align: right;\">\n",
       "      <th></th>\n",
       "      <th>story_id</th>\n",
       "      <th>username_vote</th>\n",
       "      <th>story_vote</th>\n",
       "    </tr>\n",
       "  </thead>\n",
       "  <tbody>\n",
       "    <tr>\n",
       "      <th>1242425</th>\n",
       "      <td>3810783</td>\n",
       "      <td>7ee6e604ef1b52b55f4468bb931f1f8b94c841aa</td>\n",
       "      <td>1</td>\n",
       "    </tr>\n",
       "    <tr>\n",
       "      <th>1242427</th>\n",
       "      <td>3810783</td>\n",
       "      <td>aa4c00e8aadd1ebd4614f62e4991f64a2f9e94f1</td>\n",
       "      <td>1</td>\n",
       "    </tr>\n",
       "    <tr>\n",
       "      <th>1242428</th>\n",
       "      <td>3810783</td>\n",
       "      <td>0444b8330a2ca568d3813aa5f66407059d8ac2a3</td>\n",
       "      <td>1</td>\n",
       "    </tr>\n",
       "    <tr>\n",
       "      <th>1242434</th>\n",
       "      <td>3810783</td>\n",
       "      <td>f87b5f74d830adece532fb7d12aec9eddfc8a89c</td>\n",
       "      <td>1</td>\n",
       "    </tr>\n",
       "    <tr>\n",
       "      <th>1242436</th>\n",
       "      <td>3810783</td>\n",
       "      <td>104a9426a4e83502d492d6ff09ec29876b6b6582</td>\n",
       "      <td>1</td>\n",
       "    </tr>\n",
       "    <tr>\n",
       "      <th>1242437</th>\n",
       "      <td>3810783</td>\n",
       "      <td>3b3cc32ff14e530df051f3d53facd8bd8c42c513</td>\n",
       "      <td>1</td>\n",
       "    </tr>\n",
       "    <tr>\n",
       "      <th>1242438</th>\n",
       "      <td>3810783</td>\n",
       "      <td>4550b6f5dca8e2e3653e9f77598e7d6ccaff75b5</td>\n",
       "      <td>1</td>\n",
       "    </tr>\n",
       "    <tr>\n",
       "      <th>1242439</th>\n",
       "      <td>3810783</td>\n",
       "      <td>56438053000bd2e09274d83f6f53d892d43c05e3</td>\n",
       "      <td>1</td>\n",
       "    </tr>\n",
       "  </tbody>\n",
       "</table>\n",
       "</div>"
      ],
      "text/plain": [
       "         story_id                             username_vote  story_vote\n",
       "1242425   3810783  7ee6e604ef1b52b55f4468bb931f1f8b94c841aa           1\n",
       "1242427   3810783  aa4c00e8aadd1ebd4614f62e4991f64a2f9e94f1           1\n",
       "1242428   3810783  0444b8330a2ca568d3813aa5f66407059d8ac2a3           1\n",
       "1242434   3810783  f87b5f74d830adece532fb7d12aec9eddfc8a89c           1\n",
       "1242436   3810783  104a9426a4e83502d492d6ff09ec29876b6b6582           1\n",
       "1242437   3810783  3b3cc32ff14e530df051f3d53facd8bd8c42c513           1\n",
       "1242438   3810783  4550b6f5dca8e2e3653e9f77598e7d6ccaff75b5           1\n",
       "1242439   3810783  56438053000bd2e09274d83f6f53d892d43c05e3           1"
      ]
     },
     "execution_count": 30,
     "metadata": {},
     "output_type": "execute_result"
    }
   ],
   "source": [
    "# take rows when the user is in the community 2\n",
    "users_1 = membership[membership['spinglass (0.5,1)'] == 2]['username_vote'].unique().tolist()\n",
    "print(f'number of users in this small community: {len(users_1)}')\n",
    "votes_1 = votes[votes['username_vote'].isin(users_1)]\n",
    "votes_1[['story_id', 'username_vote', 'story_vote']]"
   ]
  },
  {
   "cell_type": "code",
   "execution_count": 45,
   "metadata": {},
   "outputs": [
    {
     "name": "stdout",
     "output_type": "stream",
     "text": [
      "number of users in this small community: 39\n"
     ]
    },
    {
     "data": {
      "text/plain": [
       "story_id\n",
       "3756449     7\n",
       "3780419     5\n",
       "3812901     5\n",
       "3837950     4\n",
       "3835349     4\n",
       "3753076     4\n",
       "3821135     4\n",
       "3837977     4\n",
       "3773285     4\n",
       "3833432     3\n",
       "Name: count, dtype: int64"
      ]
     },
     "execution_count": 45,
     "metadata": {},
     "output_type": "execute_result"
    }
   ],
   "source": [
    "# take rows when the user is in the community 2\n",
    "users_1 = membership[membership['spinglass (1,0.5)'] == 4]['username_vote'].unique().tolist()\n",
    "print(f'number of users in this small community: {len(users_1)}')\n",
    "votes_1 = votes[votes['username_vote'].isin(users_1)]\n",
    "votes_1[['story_id', 'username_vote', 'story_vote']]\n",
    "\n",
    "votes_1.value_counts(['story_id'], sort=True).head(10)"
   ]
  },
  {
   "cell_type": "code",
   "execution_count": 47,
   "metadata": {},
   "outputs": [
    {
     "name": "stdout",
     "output_type": "stream",
     "text": [
      "number of users in this small community: 121\n"
     ]
    },
    {
     "data": {
      "text/plain": [
       "story_id  story_vote\n",
       "3770905    1            13\n",
       "3756449   -1             8\n",
       "3774583    1             8\n",
       "3807203    1             7\n",
       "3806467    1             7\n",
       "3763601    1             7\n",
       "3797727   -1             7\n",
       "3770489   -1             7\n",
       "3810807   -1             6\n",
       "3760800    1             6\n",
       "Name: count, dtype: int64"
      ]
     },
     "execution_count": 47,
     "metadata": {},
     "output_type": "execute_result"
    }
   ],
   "source": [
    "# take rows when the user is in the community 2\n",
    "users_1 = membership[membership['spinglass (1,0.5)'] == 5]['username_vote'].unique().tolist()\n",
    "print(f'number of users in this small community: {len(users_1)}')\n",
    "votes_1 = votes[votes['username_vote'].isin(users_1)]\n",
    "votes_1[['story_id', 'username_vote', 'story_vote']]\n",
    "\n",
    "votes_1.value_counts(['story_id', 'story_vote'], sort=True).head(10)"
   ]
  },
  {
   "cell_type": "code",
   "execution_count": 49,
   "metadata": {},
   "outputs": [
    {
     "name": "stdout",
     "output_type": "stream",
     "text": [
      "number of users in this small community: 28\n"
     ]
    },
    {
     "data": {
      "text/plain": [
       "story_id  story_vote\n",
       "3772854   1             6\n",
       "3817771   1             4\n",
       "3783599   1             3\n",
       "3840494   1             3\n",
       "3787258   1             3\n",
       "3820008   1             3\n",
       "3840480   1             3\n",
       "3777446   1             3\n",
       "3757313   1             3\n",
       "3794980   1             3\n",
       "Name: count, dtype: int64"
      ]
     },
     "execution_count": 49,
     "metadata": {},
     "output_type": "execute_result"
    }
   ],
   "source": [
    "# take rows when the user is in the community 2\n",
    "users_1 = membership[membership['spinglass (1,0.5)'] == 7]['username_vote'].unique().tolist()\n",
    "print(f'number of users in this small community: {len(users_1)}')\n",
    "votes_1 = votes[votes['username_vote'].isin(users_1)]\n",
    "votes_1[['story_id', 'username_vote', 'story_vote']]\n",
    "\n",
    "votes_1.value_counts(['story_id', 'story_vote'], sort=True).head(10)"
   ]
  },
  {
   "cell_type": "code",
   "execution_count": 50,
   "metadata": {},
   "outputs": [
    {
     "name": "stdout",
     "output_type": "stream",
     "text": [
      "number of users in this small community: 10\n"
     ]
    },
    {
     "data": {
      "text/plain": [
       "story_id  story_vote\n",
       "3755977   1             10\n",
       "3755912   1              9\n",
       "3756093   1              1\n",
       "Name: count, dtype: int64"
      ]
     },
     "execution_count": 50,
     "metadata": {},
     "output_type": "execute_result"
    }
   ],
   "source": [
    "# take rows when the user is in the community 2\n",
    "users_1 = membership[membership['spinglass (1,0.5)'] == 8]['username_vote'].unique().tolist()\n",
    "print(f'number of users in this small community: {len(users_1)}')\n",
    "votes_1 = votes[votes['username_vote'].isin(users_1)]\n",
    "votes_1[['story_id', 'username_vote', 'story_vote']]\n",
    "\n",
    "votes_1.value_counts(['story_id', 'story_vote'], sort=True).head(10)"
   ]
  },
  {
   "cell_type": "code",
   "execution_count": 55,
   "metadata": {},
   "outputs": [
    {
     "name": "stdout",
     "output_type": "stream",
     "text": [
      "number of users in this small community: 17\n"
     ]
    },
    {
     "data": {
      "text/plain": [
       "story_id  story_vote\n",
       "3838605   1             3\n",
       "3781214   1             2\n",
       "3787610   1             2\n",
       "3824118   1             2\n",
       "3801286   1             2\n",
       "3805407   1             2\n",
       "3801085   1             2\n",
       "3835744   1             2\n",
       "3805556   1             2\n",
       "3836927   1             2\n",
       "Name: count, dtype: int64"
      ]
     },
     "execution_count": 55,
     "metadata": {},
     "output_type": "execute_result"
    }
   ],
   "source": [
    "# take rows when the user is in the community 2\n",
    "users_1 = membership[membership['spinglass (1,0.5)'] == 9]['username_vote'].unique().tolist()\n",
    "print(f'number of users in this small community: {len(users_1)}')\n",
    "votes_1 = votes[votes['username_vote'].isin(users_1)]\n",
    "votes_1[['story_id', 'username_vote', 'story_vote']]\n",
    "\n",
    "votes_1.value_counts(['story_id', 'story_vote'], sort=True).head(10)"
   ]
  },
  {
   "cell_type": "code",
   "execution_count": 60,
   "metadata": {},
   "outputs": [
    {
     "name": "stdout",
     "output_type": "stream",
     "text": [
      "number of users in this small community: 13\n"
     ]
    },
    {
     "data": {
      "text/plain": [
       "story_id  story_vote\n",
       "3755977   1             10\n",
       "3755912   1              9\n",
       "3781970   1              3\n",
       "3805678   1              3\n",
       "3756093   1              1\n",
       "3807885   1              1\n",
       "Name: count, dtype: int64"
      ]
     },
     "execution_count": 60,
     "metadata": {},
     "output_type": "execute_result"
    }
   ],
   "source": [
    "# take rows when the user is in the community 2\n",
    "users_1 = membership[membership['spinglass (1,1)'] == 4]['username_vote'].unique().tolist()\n",
    "print(f'number of users in this small community: {len(users_1)}')\n",
    "votes_1 = votes[votes['username_vote'].isin(users_1)]\n",
    "votes_1[['story_id', 'username_vote', 'story_vote']]\n",
    "\n",
    "votes_1.value_counts(['story_id', 'story_vote'], sort=True).head(10)"
   ]
  },
  {
   "cell_type": "code",
   "execution_count": 68,
   "metadata": {},
   "outputs": [
    {
     "name": "stdout",
     "output_type": "stream",
     "text": [
      "number of users in this small community: 9\n"
     ]
    },
    {
     "data": {
      "text/plain": [
       "story_id  story_vote\n",
       "3770905   1             9\n",
       "Name: count, dtype: int64"
      ]
     },
     "execution_count": 68,
     "metadata": {},
     "output_type": "execute_result"
    }
   ],
   "source": [
    "# take rows when the user is in the community 2\n",
    "users_1 = membership[membership['spinglass (1,1)'] == 5]['username_vote'].unique().tolist()\n",
    "print(f'number of users in this small community: {len(users_1)}')\n",
    "votes_1 = votes[votes['username_vote'].isin(users_1)]\n",
    "votes_1[['story_id', 'username_vote', 'story_vote']]\n",
    "\n",
    "votes_1.value_counts(['story_id', 'story_vote'], sort=True).head(10)"
   ]
  },
  {
   "cell_type": "code",
   "execution_count": 73,
   "metadata": {},
   "outputs": [
    {
     "name": "stdout",
     "output_type": "stream",
     "text": [
      "number of users in this small community: 37\n"
     ]
    },
    {
     "data": {
      "text/plain": [
       "story_id  story_vote\n",
       "3838383   -1            24\n",
       "3838375   -1            18\n",
       "3838336   -1            14\n",
       "3838411   -1            13\n",
       "3838333   -1            12\n",
       "3838381   -1            10\n",
       "3838317   -1             8\n",
       "3838285   -1             8\n",
       "3838466   -1             7\n",
       "3838335   -1             5\n",
       "Name: count, dtype: int64"
      ]
     },
     "execution_count": 73,
     "metadata": {},
     "output_type": "execute_result"
    }
   ],
   "source": [
    "# take rows when the user is in the community 2\n",
    "users_1 = membership[membership['sponge (k = 2)'] == 1]['username_vote'].unique().tolist()\n",
    "print(f'number of users in this small community: {len(users_1)}')\n",
    "votes_1 = votes[votes['username_vote'].isin(users_1)]\n",
    "votes_1[['story_id', 'username_vote', 'story_vote']]\n",
    "\n",
    "votes_1.value_counts(['story_id', 'story_vote'], sort=True).head(10)"
   ]
  },
  {
   "cell_type": "code",
   "execution_count": 79,
   "metadata": {},
   "outputs": [
    {
     "name": "stdout",
     "output_type": "stream",
     "text": [
      "number of users in this small community: 37\n"
     ]
    },
    {
     "data": {
      "text/plain": [
       "story_id  story_vote\n",
       "3838383   -1            24\n",
       "3838375   -1            18\n",
       "3838336   -1            14\n",
       "3838411   -1            13\n",
       "3838333   -1            12\n",
       "3838381   -1            10\n",
       "3838317   -1             8\n",
       "3838285   -1             8\n",
       "3838466   -1             7\n",
       "3838335   -1             5\n",
       "Name: count, dtype: int64"
      ]
     },
     "execution_count": 79,
     "metadata": {},
     "output_type": "execute_result"
    }
   ],
   "source": [
    "# take rows when the user is in the community 2\n",
    "users_1 = membership[membership['sponge (k = 3)'] == 2]['username_vote'].unique().tolist()\n",
    "print(f'number of users in this small community: {len(users_1)}')\n",
    "votes_1 = votes[votes['username_vote'].isin(users_1)]\n",
    "votes_1[['story_id', 'username_vote', 'story_vote']]\n",
    "\n",
    "votes_1.value_counts(['story_id', 'story_vote'], sort=True).head(10)"
   ]
  },
  {
   "cell_type": "code",
   "execution_count": 78,
   "metadata": {},
   "outputs": [
    {
     "name": "stdout",
     "output_type": "stream",
     "text": [
      "number of users in this small community: 8\n"
     ]
    },
    {
     "data": {
      "text/plain": [
       "story_id  story_vote\n",
       "3810783   1             8\n",
       "Name: count, dtype: int64"
      ]
     },
     "execution_count": 78,
     "metadata": {},
     "output_type": "execute_result"
    }
   ],
   "source": [
    "# take rows when the user is in the community 2\n",
    "users_1 = membership[membership['sponge (k = 3)'] == 1]['username_vote'].unique().tolist()\n",
    "print(f'number of users in this small community: {len(users_1)}')\n",
    "votes_1 = votes[votes['username_vote'].isin(users_1)]\n",
    "votes_1[['story_id', 'username_vote', 'story_vote']]\n",
    "\n",
    "votes_1.value_counts(['story_id', 'story_vote'], sort=True).head(10)"
   ]
  },
  {
   "cell_type": "code",
   "execution_count": 82,
   "metadata": {},
   "outputs": [
    {
     "name": "stdout",
     "output_type": "stream",
     "text": [
      "number of users in this small community: 37\n"
     ]
    },
    {
     "data": {
      "text/plain": [
       "story_id  story_vote\n",
       "3838383   -1            24\n",
       "3838375   -1            18\n",
       "3838336   -1            14\n",
       "3838411   -1            13\n",
       "3838333   -1            12\n",
       "3838381   -1            10\n",
       "3838317   -1             8\n",
       "3838285   -1             8\n",
       "3838466   -1             7\n",
       "3838335   -1             5\n",
       "Name: count, dtype: int64"
      ]
     },
     "execution_count": 82,
     "metadata": {},
     "output_type": "execute_result"
    }
   ],
   "source": [
    "# take rows when the user is in the community 2\n",
    "users_1 = membership[membership['sponge (k = 4)'] == 1]['username_vote'].unique().tolist()\n",
    "print(f'number of users in this small community: {len(users_1)}')\n",
    "votes_1 = votes[votes['username_vote'].isin(users_1)]\n",
    "votes_1[['story_id', 'username_vote', 'story_vote']]\n",
    "\n",
    "votes_1.value_counts(['story_id', 'story_vote'], sort=True).head(10)"
   ]
  },
  {
   "cell_type": "code",
   "execution_count": 84,
   "metadata": {},
   "outputs": [
    {
     "name": "stdout",
     "output_type": "stream",
     "text": [
      "number of users in this small community: 8\n"
     ]
    },
    {
     "data": {
      "text/plain": [
       "story_id  story_vote\n",
       "3810783   1             8\n",
       "Name: count, dtype: int64"
      ]
     },
     "execution_count": 84,
     "metadata": {},
     "output_type": "execute_result"
    }
   ],
   "source": [
    "# take rows when the user is in the community 2\n",
    "users_1 = membership[membership['sponge (k = 4)'] == 3]['username_vote'].unique().tolist()\n",
    "print(f'number of users in this small community: {len(users_1)}')\n",
    "votes_1 = votes[votes['username_vote'].isin(users_1)]\n",
    "votes_1[['story_id', 'username_vote', 'story_vote']]\n",
    "\n",
    "votes_1.value_counts(['story_id', 'story_vote'], sort=True).head(10)"
   ]
  },
  {
   "cell_type": "code",
   "execution_count": null,
   "metadata": {},
   "outputs": [],
   "source": []
  }
 ],
 "metadata": {
  "kernelspec": {
   "display_name": "comm-det",
   "language": "python",
   "name": "python3"
  },
  "language_info": {
   "codemirror_mode": {
    "name": "ipython",
    "version": 3
   },
   "file_extension": ".py",
   "mimetype": "text/x-python",
   "name": "python",
   "nbconvert_exporter": "python",
   "pygments_lexer": "ipython3",
   "version": "3.11.6"
  }
 },
 "nbformat": 4,
 "nbformat_minor": 2
}
